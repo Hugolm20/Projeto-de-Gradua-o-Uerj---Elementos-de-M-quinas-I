{
 "cells": [
  {
   "cell_type": "code",
   "execution_count": 1,
   "metadata": {},
   "outputs": [],
   "source": [
    "import math\n",
    "\n",
    "d0 = float(input('Diâmetro externo d0: '))\n",
    "di = float(input('Diâmetro interno di: '))\n",
    "flexao = float(input('Momento de flexão M: '))\n",
    "carga_axial = float(input('Carga axial F: '))\n",
    "torcao = float(input('Momento de torção T: '))"
   ]
  },
  {
   "cell_type": "code",
   "execution_count": 2,
   "metadata": {},
   "outputs": [],
   "source": [
    "tensao_normal = ((4*carga_axial)/(3.14 * (d0)**2 * (1 - (di/d0)**2))) + ((32 * flexao) / (3.14 * (d0**3) * (1 - (di / d0)**4)))\n",
    "\n",
    "tensao_cisalhante = ((16 * torcao) / (3.14 * (d0**3) * (1 - (di / d0)**4)))\n",
    "\n",
    "tensao_normal_max = (tensao_normal / 2) + math.sqrt(((tensao_normal / 2 ) ** 2) + (tensao_cisalhante ** 2))\n",
    "\n",
    "tensao_normal_min = (tensao_normal / 2) - math.sqrt(((tensao_normal / 2 ) ** 2) + (tensao_cisalhante ** 2))\n",
    "\n",
    "tensao_cisalhante_max = math.sqrt(((tensao_normal / 2 ) ** 2) + (tensao_cisalhante ** 2))\n",
    "\n",
    "tan_2_teta_n = (2 * tensao_cisalhante) / (tensao_normal)\n",
    "dois_teta_n = math.degrees(math.atan(tan_2_teta_n))\n",
    "θn = dois_teta_n / 2\n",
    "\n",
    "tan_2_teta_t = (tensao_normal) / (2 * tensao_cisalhante)\n",
    "dois_teta_t = math.degrees(math.atan(tan_2_teta_t))\n",
    "θt = dois_teta_t / 2"
   ]
  },
  {
   "cell_type": "code",
   "execution_count": 3,
   "metadata": {},
   "outputs": [
    {
     "name": "stdout",
     "output_type": "stream",
     "text": [
      "σ normal: 206.18 MPa\n",
      "τ cisalhante: 91.13 MPa\n",
      "σ normal máxima: 240.68 MPa\n",
      "σ normal mínima: -34.50 MPa\n",
      "τ cisalhante máxima: 137.59 MPa\n",
      "θn: 20.74°\n",
      "θt: 24.26°\n"
     ]
    }
   ],
   "source": [
    "print(f'σ normal: {tensao_normal * 10**-6 :.2f} MPa')\n",
    "print(f'τ cisalhante: {tensao_cisalhante * 10**-6 :.2f} MPa')\n",
    "print(f'σ normal máxima: {tensao_normal_max * 10**-6 :.2f} MPa')\n",
    "print(f'σ normal mínima: {tensao_normal_min * 10**-6 :.2f} MPa')\n",
    "print(f'τ cisalhante máxima: {tensao_cisalhante_max * 10**-6 :.2f} MPa')\n",
    "print(f'θn: {θn:.2f}°')\n",
    "print(f'θt: {θt:.2f}°')"
   ]
  }
 ],
 "metadata": {
  "interpreter": {
   "hash": "a9cfe068232ddbf72b657d59445253fb433e8805144b462c9b75e3e380a79205"
  },
  "kernelspec": {
   "display_name": "Python 3 (ipykernel)",
   "language": "python",
   "name": "python3"
  },
  "language_info": {
   "codemirror_mode": {
    "name": "ipython",
    "version": 3
   },
   "file_extension": ".py",
   "mimetype": "text/x-python",
   "name": "python",
   "nbconvert_exporter": "python",
   "pygments_lexer": "ipython3",
   "version": "3.9.7"
  }
 },
 "nbformat": 4,
 "nbformat_minor": 2
}
