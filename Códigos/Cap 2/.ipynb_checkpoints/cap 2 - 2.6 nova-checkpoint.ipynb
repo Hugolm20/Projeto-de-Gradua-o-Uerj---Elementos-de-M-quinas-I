{
 "cells": [
  {
   "cell_type": "markdown",
   "metadata": {},
   "source": [
    "<img src='Exercício.png'>"
   ]
  },
  {
   "cell_type": "code",
   "execution_count": 3,
   "metadata": {},
   "outputs": [],
   "source": [
    "import numpy as np "
   ]
  },
  {
   "cell_type": "code",
   "execution_count": 1,
   "metadata": {},
   "outputs": [
    {
     "name": "stdout",
     "output_type": "stream",
     "text": [
      "elemento[0x0]:2\n",
      "elemento[0x1]:3\n",
      "elemento[0x2]:5\n",
      "elemento[1x0]:6\n",
      "elemento[1x1]:2\n",
      "elemento[1x2]:1\n",
      "[[2], [3], [5]]\n",
      "[[6], [2], [1]]\n"
     ]
    }
   ],
   "source": [
    "# matriz força\n",
    "\n",
    "# n = quantidade de forças\n",
    "n = 2\n",
    "matriz_forca = []\n",
    "\n",
    "for i in range(0,n):\n",
    "    matriz_forca.append(list())\n",
    "for i in range(0,n):\n",
    "    for j in range(0,3):\n",
    "        matriz_forca[i].append(list())\n",
    "for i in range(0,n):\n",
    "    for j in range(0,3):\n",
    "        matriz_forca[i][j].append(int(input(f'elemento[{i}x{j}]:')))\n",
    "\n",
    "for i in range(0,n):\n",
    "    print(f'{matriz_forca[i]}')"
   ]
  },
  {
   "cell_type": "code",
   "execution_count": 2,
   "metadata": {
    "scrolled": true
   },
   "outputs": [
    {
     "name": "stdout",
     "output_type": "stream",
     "text": [
      "elemento[0x0]:5\n",
      "elemento[0x1]:1\n",
      "elemento[0x2]:1\n",
      "elemento[1x0]:1\n",
      "elemento[1x1]:3\n",
      "elemento[1x2]:6\n",
      "[[5], [1], [1]]\n",
      "[[1], [3], [6]]\n"
     ]
    }
   ],
   "source": [
    "# matriz posição\n",
    "matriz_posicao = []\n",
    "\n",
    "for i in range(0,n):\n",
    "    matriz_posicao.append(list())\n",
    "for i in range(0,n):\n",
    "    for j in range(0,3):\n",
    "        matriz_posicao[i].append(list())\n",
    "for i in range(0,n):\n",
    "    for j in range(0,3):\n",
    "        matriz_posicao[i][j].append(int(input(f'elemento[{i}x{j}]:')))\n",
    "\n",
    "for i in range(0,n):\n",
    "    print(f'{matriz_posicao[i]}')"
   ]
  },
  {
   "cell_type": "code",
   "execution_count": 29,
   "metadata": {},
   "outputs": [
    {
     "name": "stdout",
     "output_type": "stream",
     "text": [
      "[[ 230  590   10]\n",
      " [ 110  -20 -145]]\n"
     ]
    }
   ],
   "source": [
    "# vetor posição\n",
    "r = [[5, -2, 3],[3, 2, 2]]\n",
    "\n",
    "# vetor força\n",
    "f = [[80, -30, -70],[80, 5, 60]]\n",
    "\n",
    "\n",
    "produto_vetorial = np.cross(r, f) \n",
    "print(produto_vetorial)"
   ]
  },
  {
   "cell_type": "code",
   "execution_count": 4,
   "metadata": {
    "scrolled": true
   },
   "outputs": [
    {
     "name": "stdout",
     "output_type": "stream",
     "text": [
      "[[0, 0, 0.1], [0.16, -0.08, 0.18], [0.16, 0.08, 0.18], [0.08, 0, 0.26]]\n",
      "[[0, 50, 0], [80, 0, 0], [0, 0, 60], [0, 40, 0]]\n"
     ]
    }
   ],
   "source": [
    "matriz_posicao = [[0, 0, 0.1],[0.16, -0.08, 0.18],[0.16, 0.08, 0.18],[0.08, 0, 0.26]]\n",
    "matriz_forca  = [[0, 50, 0],[80, 0, 0],[0, 0, 60],[0, 40, 0]]\n",
    "matriz_momento = [[0, 15, 0],[0, 0, 20]]\n",
    "print(f'{matriz_posicao}')\n",
    "print(f'{matriz_forca}')"
   ]
  },
  {
   "cell_type": "code",
   "execution_count": 5,
   "metadata": {},
   "outputs": [
    {
     "name": "stdout",
     "output_type": "stream",
     "text": [
      "[-10.6  19.8  29.6]\n"
     ]
    }
   ],
   "source": [
    "i = 0\n",
    "a = []\n",
    "\n",
    "while i < len(matriz_posicao):\n",
    "    prod = np.cross(matriz_posicao[i], matriz_forca[i])\n",
    "    prod = a.append(prod)\n",
    "    prod = sum(a)\n",
    "    i = i + 1\n",
    "\n",
    "if matriz_momento == '':\n",
    "    print(prod)\n",
    "else:\n",
    "    matriz_momento = np.sum(matriz_momento, axis=0)\n",
    "    prod = prod + matriz_momento\n",
    "    print(prod)"
   ]
  },
  {
   "cell_type": "code",
   "execution_count": null,
   "metadata": {},
   "outputs": [],
   "source": []
  }
 ],
 "metadata": {
  "interpreter": {
   "hash": "891fdc17ebb43d1a9dddc5524327f2e15ff929a695243491a358d5110d42d9c0"
  },
  "kernelspec": {
   "display_name": "Python 3 (ipykernel)",
   "language": "python",
   "name": "python3"
  },
  "language_info": {
   "codemirror_mode": {
    "name": "ipython",
    "version": 3
   },
   "file_extension": ".py",
   "mimetype": "text/x-python",
   "name": "python",
   "nbconvert_exporter": "python",
   "pygments_lexer": "ipython3",
   "version": "3.9.7"
  }
 },
 "nbformat": 4,
 "nbformat_minor": 2
}
