{
 "cells": [
  {
   "cell_type": "code",
   "execution_count": 37,
   "metadata": {},
   "outputs": [
    {
     "name": "stdout",
     "output_type": "stream",
     "text": [
      "[-8, -6, 4]\n",
      "F = -3.00 i + 2.00 j + 0.00 k\n",
      "M = -8.00 i + -6.00 j + 4.00 k\n"
     ]
    }
   ],
   "source": [
    "import numpy as np\n",
    "import math\n",
    "\n",
    "import numpy as np\n",
    "import math\n",
    "\n",
    "\n",
    "matriz_posicao = [[2, 0, 4],[0, 0, 4]]\n",
    "matriz_forca = [[0, 2, 0],[-3, 0, 0]]\n",
    "matriz_momento = [[0, 6, 0]]\n",
    "\n",
    "i = 0\n",
    "a = []\n",
    "\n",
    "while i < len(matriz_posicao):\n",
    "    prod = np.cross(matriz_posicao[i], matriz_forca[i])\n",
    "    prod = a.append(prod)\n",
    "    prod = sum(a)\n",
    "    i = i + 1\n",
    "\n",
    "if matriz_momento == '':\n",
    "    prod = list(prod)\n",
    "    print(prod)\n",
    "else:\n",
    "    matriz_momento = np.sum(matriz_momento, axis=0)\n",
    "    prod = prod + matriz_momento\n",
    "    prod = list(prod)\n",
    "    print(prod)\n",
    "\n",
    "matriz_forca = np.sum(matriz_forca, axis=0)\n",
    "print(f'F = {matriz_forca[0]:.2f} i + {matriz_forca[1]:.2f} j + {matriz_forca[2]:.2f} k')\n",
    "print(f'M = {prod[0]:.2f} i + {prod[1]:.2f} j + {prod[2]:.2f} k')\n"
   ]
  },
  {
   "cell_type": "code",
   "execution_count": 38,
   "metadata": {},
   "outputs": [
    {
     "name": "stdout",
     "output_type": "stream",
     "text": [
      "[-4.5, 0.0, 4.2]\n",
      "F = 0.00 i + 15.00 j + 0.00 k\n",
      "M = -4.50 i + 0.00 j + 4.20 k\n",
      "61.26 MPa\n"
     ]
    }
   ],
   "source": [
    "import numpy as np\n",
    "import math\n",
    "\n",
    "d = 0.08\n",
    "\n",
    "matriz_posicao = [[0.280, 0, 0.300]]\n",
    "matriz_forca = [[0, 15, 0]]\n",
    "matriz_momento = ''\n",
    "\n",
    "i = 0\n",
    "a = []\n",
    "\n",
    "while i < len(matriz_posicao):\n",
    "    prod = np.cross(matriz_posicao[i], matriz_forca[i])\n",
    "    prod = a.append(prod)\n",
    "    prod = sum(a)\n",
    "    i = i + 1\n",
    "\n",
    "if matriz_momento == '':\n",
    "    prod = list(prod)\n",
    "    print(prod)\n",
    "else:\n",
    "    matriz_momento = np.sum(matriz_momento, axis=0)\n",
    "    prod = prod + matriz_momento\n",
    "    prod = list(prod)\n",
    "    print(prod)\n",
    "\n",
    "matriz_forca = np.sum(matriz_forca, axis=0)\n",
    "print(f'F = {matriz_forca[0]:.2f} i + {matriz_forca[1]:.2f} j + {matriz_forca[2]:.2f} k')\n",
    "print(f'M = {prod[0]:.2f} i + {prod[1]:.2f} j + {prod[2]:.2f} k')\n",
    "\n",
    "t = prod[2]\n",
    "m = math.sqrt(((prod[0])**2) + ((prod[1])**2))\n",
    "\n",
    "tensao_cisalhante = ((16 * t) / (3.14 * (d**3)))\n",
    "tensao_normal = ((32 * m) / (3.14 * (d**3)))\n",
    "\n",
    "tensao_cisalhante_max = (math.sqrt(((tensao_normal / 2)**2) + (tensao_cisalhante**2)))* 10**-3\n",
    "print(f'{tensao_cisalhante_max:.2f} MPa')\n"
   ]
  },
  {
   "cell_type": "code",
   "execution_count": null,
   "metadata": {},
   "outputs": [],
   "source": []
  }
 ],
 "metadata": {
  "interpreter": {
   "hash": "a9cfe068232ddbf72b657d59445253fb433e8805144b462c9b75e3e380a79205"
  },
  "kernelspec": {
   "display_name": "Python 3 (ipykernel)",
   "language": "python",
   "name": "python3"
  },
  "language_info": {
   "codemirror_mode": {
    "name": "ipython",
    "version": 3
   },
   "file_extension": ".py",
   "mimetype": "text/x-python",
   "name": "python",
   "nbconvert_exporter": "python",
   "pygments_lexer": "ipython3",
   "version": "3.9.7"
  }
 },
 "nbformat": 4,
 "nbformat_minor": 2
}
