{
 "cells": [
  {
   "cell_type": "code",
   "execution_count": 3,
   "metadata": {},
   "outputs": [],
   "source": [
    "import math\n",
    "\n",
    "d0 = float(input('Diâmetro externo d0: '))\n",
    "di = float(input('Diâmetro interno di: '))\n",
    "flexao = float(input('Momento de flexão M: '))\n",
    "carga_axial = float(input('Carga axial F: '))\n",
    "torcao = float(input('Momento de torção T: '))"
   ]
  },
  {
   "cell_type": "code",
   "execution_count": 4,
   "metadata": {},
   "outputs": [],
   "source": [
    "tensao_normal = ((4*carga_axial)/(3.14 * (d0)**2 * (1 - (di/d0)**2))) + ((32 * flexao) / (3.14 * (d0**3) * (1 - (di / d0)**4)))\n",
    "\n",
    "tensao_cisalhante = ((16 * torcao) / (3.14 * (d0**3) * (1 - (di / d0)**4)))\n",
    "\n",
    "tensao_normal_max = (tensao_normal / 2) + math.sqrt(((tensao_normal / 2 ) ** 2) + (tensao_cisalhante ** 2))\n",
    "\n",
    "tensao_normal_min = (tensao_normal / 2) - math.sqrt(((tensao_normal / 2 ) ** 2) + (tensao_cisalhante ** 2))\n",
    "\n",
    "tensao_cisalhante_max = math.sqrt(((tensao_normal / 2 ) ** 2) + (tensao_cisalhante ** 2))\n",
    "\n",
    "tan_2_teta_n = (2 * tensao_cisalhante) / (tensao_normal)\n",
    "dois_teta_n = math.degrees(math.atan(tan_2_teta_n))\n",
    "θn = dois_teta_n / 2\n",
    "\n",
    "tan_2_teta_t = (tensao_normal) / (2 * tensao_cisalhante)\n",
    "dois_teta_t = math.degrees(math.atan(tan_2_teta_t))\n",
    "θt = dois_teta_t / 2"
   ]
  },
  {
   "cell_type": "code",
   "execution_count": 1,
   "metadata": {},
   "outputs": [
    {
     "ename": "NameError",
     "evalue": "name 'tensao_normal_max' is not defined",
     "output_type": "error",
     "traceback": [
      "\u001b[1;31m---------------------------------------------------------------------------\u001b[0m",
      "\u001b[1;31mNameError\u001b[0m                                 Traceback (most recent call last)",
      "\u001b[1;32m~\\AppData\\Local\\Temp/ipykernel_13084/1339006563.py\u001b[0m in \u001b[0;36m<module>\u001b[1;34m\u001b[0m\n\u001b[1;32m----> 1\u001b[1;33m \u001b[0mprint\u001b[0m\u001b[1;33m(\u001b[0m\u001b[1;34mf'σ normal máxima: {tensao_normal_max * 10**-6 :.2f} MPa'\u001b[0m\u001b[1;33m)\u001b[0m\u001b[1;33m\u001b[0m\u001b[1;33m\u001b[0m\u001b[0m\n\u001b[0m\u001b[0;32m      2\u001b[0m \u001b[0mprint\u001b[0m\u001b[1;33m(\u001b[0m\u001b[1;34mf'σ normal mínima: {tensao_normal_min * 10**-6 :.2f} MPa'\u001b[0m\u001b[1;33m)\u001b[0m\u001b[1;33m\u001b[0m\u001b[1;33m\u001b[0m\u001b[0m\n\u001b[0;32m      3\u001b[0m \u001b[0mprint\u001b[0m\u001b[1;33m(\u001b[0m\u001b[1;34mf'τ cisalhante máxima: {tensao_cisalhante_max * 10**-6 :.2f} MPa'\u001b[0m\u001b[1;33m)\u001b[0m\u001b[1;33m\u001b[0m\u001b[1;33m\u001b[0m\u001b[0m\n\u001b[0;32m      4\u001b[0m \u001b[0mprint\u001b[0m\u001b[1;33m(\u001b[0m\u001b[1;34mf'θn: {θn:.2f}°'\u001b[0m\u001b[1;33m)\u001b[0m\u001b[1;33m\u001b[0m\u001b[1;33m\u001b[0m\u001b[0m\n\u001b[0;32m      5\u001b[0m \u001b[0mprint\u001b[0m\u001b[1;33m(\u001b[0m\u001b[1;34mf'θt: {- θt:.2f}°'\u001b[0m\u001b[1;33m)\u001b[0m\u001b[1;33m\u001b[0m\u001b[1;33m\u001b[0m\u001b[0m\n",
      "\u001b[1;31mNameError\u001b[0m: name 'tensao_normal_max' is not defined"
     ]
    }
   ],
   "source": [
    "print(f'σ normal máxima: {tensao_normal_max * 10**-6 :.2f} MPa')\n",
    "print(f'σ normal mínima: {tensao_normal_min * 10**-6 :.2f} MPa')\n",
    "print(f'τ cisalhante máxima: {tensao_cisalhante_max * 10**-6 :.2f} MPa')\n",
    "print(f'θn: {θn:.2f}°')\n",
    "print(f'θt: {θt:.2f}°')"
   ]
  }
 ],
 "metadata": {
  "interpreter": {
   "hash": "a9cfe068232ddbf72b657d59445253fb433e8805144b462c9b75e3e380a79205"
  },
  "kernelspec": {
   "display_name": "Python 3.9.7 ('base')",
   "language": "python",
   "name": "python3"
  },
  "language_info": {
   "codemirror_mode": {
    "name": "ipython",
    "version": 3
   },
   "file_extension": ".py",
   "mimetype": "text/x-python",
   "name": "python",
   "nbconvert_exporter": "python",
   "pygments_lexer": "ipython3",
   "version": "3.9.7"
  },
  "orig_nbformat": 4
 },
 "nbformat": 4,
 "nbformat_minor": 2
}
