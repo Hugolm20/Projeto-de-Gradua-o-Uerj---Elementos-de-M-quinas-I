{
 "cells": [
  {
   "cell_type": "code",
   "execution_count": 4,
   "metadata": {},
   "outputs": [],
   "source": [
    "while True:\n",
    "    try: \n",
    "        tipo_tensao = int(input('Digite o número do tipo da tensão aplicada: 1 - Carga axial / 2 - Torção / 3 - Momento Fletor / 4 - Tensões Combinadas: '))\n",
    "        if not 1 <= tipo_tensao <= 5:\n",
    "            raise ValueError('O número digitado deve ser de 1 a 5!')\n",
    "    except ValueError as e:\n",
    "        print('Valor inválido. Digite um número de 1 a 5:')\n",
    "    else:\n",
    "        break\n"
   ]
  },
  {
   "cell_type": "code",
   "execution_count": 9,
   "metadata": {},
   "outputs": [
    {
     "ename": "SyntaxError",
     "evalue": "invalid syntax (2900853088.py, line 18)",
     "output_type": "error",
     "traceback": [
      "\u001b[1;36m  Input \u001b[1;32mIn [9]\u001b[1;36m\u001b[0m\n\u001b[1;33m    tensao = ((32 * flexao) / (3.14 * (d0**3) * (1 - (di / d0)**4)))\u001b[0m\n\u001b[1;37m    ^\u001b[0m\n\u001b[1;31mSyntaxError\u001b[0m\u001b[1;31m:\u001b[0m invalid syntax\n"
     ]
    }
   ],
   "source": [
    "if tipo_tensao == 1:\n",
    "    f = float(input('Carga Axial F: ')) \n",
    "    d0 = float(input('Diâmetro externo d0: ')) \n",
    "    di = float(input('Diâmetro interno di: ')) \n",
    "    k = di / d0 \n",
    "    tensao_normal = (4*f)/(3.14 * (d0)**2 * (1 - k**2))\n",
    "    print(f'σ normal: {tensao_normal * 10**-6 :.2f} MPa')\n",
    "elif tipo_tensao == 2:\n",
    "    torcao = float(input('Momento de torção T: '))\n",
    "    d0 = float(input('Diâmetro externo d0: '))\n",
    "    di = float(input('Diâmetro interno di: '))\n",
    "    tensao = ((16 * torcao) / (3.14 * (d0**3) * (1 - (di / d0)**4)))\n",
    "    print(f'τ cisalhante: {tensao * 10**-6 :.2f} MPa')\n",
    "elif tipo_tensao == 3:\n",
    "    flexao = float(input('Momento de flexão T: '))\n",
    "    d0 = float(input('Diâmetro externo d0: '))\n",
    "    di = float(input('Diâmetro interno di: '))\n",
    "    tensao = ((32 * flexao) / (3.14 * (d0**3) * (1 - (di / d0)**4)))\n",
    "    print(f'σ normal: {tensao * 10**-6 :.2f} MPa')\n",
    "elif tipo_tensao == 4:\n",
    "    d0 = float(input('Diâmetro externo d0: '))\n",
    "    di = float(input('Diâmetro interno di: '))\n",
    "    flexao = float(input('Momento de flexão M: '))\n",
    "    carga_axial = float(input('Carga axial F: '))\n",
    "    torcao = float(input('Momento de torção T: '))\n",
    "    tensao_normal = ((4*carga_axial)/(3.14 * (d0)**2 * (1 - (di/d0)**2))) + ((32 * flexao) / (3.14 * (d0**3) * (1 - (di / d0)**4)))\n",
    "    tensao_cisalhante = ((16 * torcao) / (3.14 * (d0**3) * (1 - (di / d0)**4)))\n",
    "    print(f'σ normal: {tensao_normal * 10**-6 :.2f} MPa')\n",
    "    print(f'τ cisalhante: {tensao_cisalhante * 10**-6 :.2f} MPa')\n",
    "  "
   ]
  }
 ],
 "metadata": {
  "interpreter": {
   "hash": "891fdc17ebb43d1a9dddc5524327f2e15ff929a695243491a358d5110d42d9c0"
  },
  "kernelspec": {
   "display_name": "Python 3.9.7 64-bit",
   "language": "python",
   "name": "python3"
  },
  "language_info": {
   "codemirror_mode": {
    "name": "ipython",
    "version": 3
   },
   "file_extension": ".py",
   "mimetype": "text/x-python",
   "name": "python",
   "nbconvert_exporter": "python",
   "pygments_lexer": "ipython3",
   "version": "3.9.7"
  },
  "orig_nbformat": 4
 },
 "nbformat": 4,
 "nbformat_minor": 2
}
