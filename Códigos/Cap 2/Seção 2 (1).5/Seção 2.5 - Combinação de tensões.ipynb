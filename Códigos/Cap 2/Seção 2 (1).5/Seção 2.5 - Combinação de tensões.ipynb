{
 "cells": [
  {
   "cell_type": "markdown",
   "metadata": {},
   "source": [
    "<img src='Seção 2.5.png'>"
   ]
  },
  {
   "cell_type": "code",
   "execution_count": 1,
   "metadata": {},
   "outputs": [],
   "source": [
    "d0 = float(input('Diâmetro externo d0: '))\n",
    "di = float(input('Diâmetro interno di: '))\n",
    "flexao = float(input('Momento de flexão M: '))\n",
    "carga_axial = float(input('Carga axial F: '))\n",
    "torcao = float(input('Momento de torção T: '))"
   ]
  },
  {
   "cell_type": "code",
   "execution_count": 10,
   "metadata": {},
   "outputs": [
    {
     "name": "stdout",
     "output_type": "stream",
     "text": [
      "σ normal: 236.48 MPa\n",
      "τ cisalhante: 69.05 MPa\n"
     ]
    }
   ],
   "source": [
    "tensao_normal = ((4*carga_axial)/(3.14 * (d0)**2 * (1 - (di/d0)**2))) + ((32 * flexao) / (3.14 * (d0**3) * (1 - (di / d0)**4)))\n",
    "\n",
    "tensao_cisalhante = ((16 * torcao) / (3.14 * (d0**3) * (1 - (di / d0)**4)))\n",
    "\n",
    "print(f'σ normal: {tensao_normal * 10**-6 :.2f} MPa')\n",
    "print(f'τ cisalhante: {tensao_cisalhante * 10**-6 :.2f} MPa')"
   ]
  }
 ],
 "metadata": {
  "interpreter": {
   "hash": "a9cfe068232ddbf72b657d59445253fb433e8805144b462c9b75e3e380a79205"
  },
  "kernelspec": {
   "display_name": "Python 3.9.7 ('base')",
   "language": "python",
   "name": "python3"
  },
  "language_info": {
   "codemirror_mode": {
    "name": "ipython",
    "version": 3
   },
   "file_extension": ".py",
   "mimetype": "text/x-python",
   "name": "python",
   "nbconvert_exporter": "python",
   "pygments_lexer": "ipython3",
   "version": "3.9.7"
  },
  "orig_nbformat": 4
 },
 "nbformat": 4,
 "nbformat_minor": 2
}
