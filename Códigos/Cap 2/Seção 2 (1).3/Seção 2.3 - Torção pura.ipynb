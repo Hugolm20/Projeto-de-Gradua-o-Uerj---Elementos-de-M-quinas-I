{
 "cells": [
  {
   "cell_type": "markdown",
   "metadata": {},
   "source": [
    "<img src='Seção 2.3.png'>"
   ]
  },
  {
   "cell_type": "code",
   "execution_count": 16,
   "metadata": {},
   "outputs": [
    {
     "name": "stdout",
     "output_type": "stream",
     "text": [
      "O valor deve ser um número\n"
     ]
    }
   ],
   "source": [
    "try:\n",
    "    torcao = float(input('Momento de torção T: '))\n",
    "    d0 = float(input('Diâmetro externo d0: '))\n",
    "    di = float(input('Diâmetro interno di: '))# cálculo da tensão normal\n",
    "\n",
    "except ValueError as error:\n",
    "    print('O valor deve ser um número')   "
   ]
  },
  {
   "cell_type": "code",
   "execution_count": 15,
   "metadata": {},
   "outputs": [
    {
     "name": "stdout",
     "output_type": "stream",
     "text": [
      "τ: 91127417.01234971 Pa\n"
     ]
    }
   ],
   "source": [
    "tensao = ((16 * torcao) / (3.14 * (d0**3) * (1 - (di / d0)**4)))\n",
    "print(f'τ cisalhante: {tensao * 10**-6 :.2f} MPa')"
   ]
  }
 ],
 "metadata": {
  "interpreter": {
   "hash": "a9cfe068232ddbf72b657d59445253fb433e8805144b462c9b75e3e380a79205"
  },
  "kernelspec": {
   "display_name": "Python 3.9.7 ('base')",
   "language": "python",
   "name": "python3"
  },
  "language_info": {
   "codemirror_mode": {
    "name": "ipython",
    "version": 3
   },
   "file_extension": ".py",
   "mimetype": "text/x-python",
   "name": "python",
   "nbconvert_exporter": "python",
   "pygments_lexer": "ipython3",
   "version": "3.9.7"
  },
  "orig_nbformat": 4
 },
 "nbformat": 4,
 "nbformat_minor": 2
}
