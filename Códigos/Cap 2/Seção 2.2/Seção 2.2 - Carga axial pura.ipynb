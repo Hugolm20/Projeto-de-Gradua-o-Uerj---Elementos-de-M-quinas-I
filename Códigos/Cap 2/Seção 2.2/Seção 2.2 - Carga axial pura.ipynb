{
 "cells": [
  {
   "cell_type": "markdown",
   "metadata": {},
   "source": [
    "<img src='Seção 2.2.1.png'>\n",
    "<img src='Seção 2.2.2.png'>"
   ]
  },
  {
   "cell_type": "code",
   "execution_count": 1,
   "metadata": {},
   "outputs": [],
   "source": [
    "try: \n",
    "    f = float(input('Carga Axial F: ')) \n",
    "    d0 = float(input('Diâmetro externo d0: ')) \n",
    "    di = float(input('Diâmetro interno di: ')) \n",
    "\n",
    "except ValueError as error:\n",
    "    print('O valor deve ser um número')      \n"
   ]
  },
  {
   "cell_type": "code",
   "execution_count": 2,
   "metadata": {},
   "outputs": [],
   "source": [
    "k = di / d0 \n",
    "tensao_normal = (4*f)/(3.14 * (d0)**2 * (1 - k**2))"
   ]
  },
  {
   "cell_type": "code",
   "execution_count": 3,
   "metadata": {},
   "outputs": [
    {
     "name": "stdout",
     "output_type": "stream",
     "text": [
      "σ normal: 69.48 MPa\n"
     ]
    }
   ],
   "source": [
    "print(f'σ normal: {tensao_normal * 10**-6 :.2f} MPa')\n"
   ]
  }
 ],
 "metadata": {
  "interpreter": {
   "hash": "a9cfe068232ddbf72b657d59445253fb433e8805144b462c9b75e3e380a79205"
  },
  "kernelspec": {
   "display_name": "Python 3.9.7 ('base')",
   "language": "python",
   "name": "python3"
  },
  "language_info": {
   "codemirror_mode": {
    "name": "ipython",
    "version": 3
   },
   "file_extension": ".py",
   "mimetype": "text/x-python",
   "name": "python",
   "nbconvert_exporter": "python",
   "pygments_lexer": "ipython3",
   "version": "3.9.7"
  },
  "orig_nbformat": 4
 },
 "nbformat": 4,
 "nbformat_minor": 2
}
