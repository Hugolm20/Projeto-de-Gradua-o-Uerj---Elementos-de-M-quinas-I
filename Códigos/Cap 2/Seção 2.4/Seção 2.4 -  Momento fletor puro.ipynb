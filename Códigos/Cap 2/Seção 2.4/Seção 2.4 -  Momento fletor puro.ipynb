{
 "cells": [
  {
   "cell_type": "markdown",
   "metadata": {},
   "source": [
    "<img src='Seção 2.4.png'>"
   ]
  },
  {
   "cell_type": "code",
   "execution_count": null,
   "metadata": {},
   "outputs": [],
   "source": [
    "try:\n",
    "    flexao = float(input('Momento de flexão T: '))\n",
    "    d0 = float(input('Diâmetro externo d0: '))\n",
    "    di = float(input('Diâmetro interno di: '))# cálculo da tensão normal\n",
    "\n",
    "except ValueError as error:\n",
    "    print('O valor deve ser um número')   "
   ]
  },
  {
   "cell_type": "code",
   "execution_count": null,
   "metadata": {},
   "outputs": [],
   "source": [
    "tensao = ((32 * flexao) / (3.14 * (d0**3) * (1 - (di / d0)**4)))\n",
    "print(f'σ normal: {tensao * 10**-6 :.2f} MPa')"
   ]
  }
 ],
 "metadata": {
  "interpreter": {
   "hash": "a9cfe068232ddbf72b657d59445253fb433e8805144b462c9b75e3e380a79205"
  },
  "kernelspec": {
   "display_name": "Python 3.9.7 ('base')",
   "language": "python",
   "name": "python3"
  },
  "language_info": {
   "name": "python",
   "version": "3.9.7"
  },
  "orig_nbformat": 4
 },
 "nbformat": 4,
 "nbformat_minor": 2
}
