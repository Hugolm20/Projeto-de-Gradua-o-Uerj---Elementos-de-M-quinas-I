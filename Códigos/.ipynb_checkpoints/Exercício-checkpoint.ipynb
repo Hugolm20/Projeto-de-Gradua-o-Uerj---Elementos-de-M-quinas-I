{
 "cells": [
  {
   "cell_type": "code",
   "execution_count": 190,
   "id": "549434e8",
   "metadata": {},
   "outputs": [],
   "source": [
    "import numpy as np \n",
    "import math"
   ]
  },
  {
   "cell_type": "markdown",
   "id": "f1b58ef6",
   "metadata": {},
   "source": [
    "# Dados de entrada"
   ]
  },
  {
   "cell_type": "code",
   "execution_count": 191,
   "id": "90cade45",
   "metadata": {},
   "outputs": [
    {
     "name": "stdout",
     "output_type": "stream",
     "text": [
      "Matriz posição: [[0, 0, 0.1], [0.16, -0.08, 0.18], [0.16, 0.08, 0.18], [0.08, 0, 0.26]]\n",
      "Matriz força: [[0, 50, 0], [80, 0, 0], [0, 0, 60], [0, 40, 0]]\n",
      "Matriz momento: [[0, 15, 0], [0, 0, 20]]\n",
      "Diâmetro: 0.08m\n",
      "Tensão de ruptura: 400 MPa\n",
      "Tipo de aço: forjado\n",
      "Temperatura: 165°C\n",
      "Tipo de carga: axial\n",
      "Confiabilidade %: 98\n"
     ]
    }
   ],
   "source": [
    "matriz_posicao = [[0, 0, 0.1],[0.16, -0.08, 0.18],[0.16, 0.08, 0.18],[0.08, 0, 0.26]]\n",
    "matriz_forca  = [[0, 50, 0],[80, 0, 0],[0, 0, 60],[0, 40, 0]]\n",
    "matriz_momento = [[0, 15, 0],[0, 0, 20]]\n",
    "d = 0.08\n",
    "tensao_ruptura = 400\n",
    "aco = 'forjado'\n",
    "t = 165\n",
    "carga = 'axial'\n",
    "conf = 98\n",
    "print(f'Matriz posição: {matriz_posicao}')\n",
    "print(f'Matriz força: {matriz_forca}')\n",
    "print(f'Matriz momento: {matriz_momento}')\n",
    "print(f'Diâmetro: {d}m')\n",
    "print(f'Tensão de ruptura: {tensao_ruptura} MPa')\n",
    "print(f'Tipo de aço: {aco}')\n",
    "print(f'Temperatura: {t}°C')\n",
    "print(f'Tipo de carga: {carga}')\n",
    "print(f'Confiabilidade %: {conf}')"
   ]
  },
  {
   "cell_type": "markdown",
   "id": "89f7df78",
   "metadata": {},
   "source": [
    "# Resolução do exercício"
   ]
  },
  {
   "cell_type": "code",
   "execution_count": 192,
   "id": "d6471b9f",
   "metadata": {},
   "outputs": [
    {
     "name": "stdout",
     "output_type": "stream",
     "text": [
      "[-10.6  19.8  29.6]\n",
      "F = 80.00 i + 90.00 j + 60.00 k\n",
      "M = -10.60 i + 19.80 j + 29.60 k\n",
      "369.78391544724303 MPa\n"
     ]
    }
   ],
   "source": [
    "if d == '':\n",
    "    print('amora')\n",
    "else:\n",
    "    i = 0\n",
    "    a = []\n",
    "\n",
    "    while i < len(matriz_posicao):\n",
    "        prod = np.cross(matriz_posicao[i], matriz_forca[i])\n",
    "        prod = a.append(prod)\n",
    "        prod = sum(a)\n",
    "        i = i + 1\n",
    "\n",
    "    if matriz_momento == '':\n",
    "        print(prod)\n",
    "    else:\n",
    "        matriz_momento = np.sum(matriz_momento, axis=0)\n",
    "        prod = prod + matriz_momento\n",
    "        print(prod)\n",
    "        \n",
    "    matriz_forca = np.sum(matriz_forca, axis=0)\n",
    "    print(f'F = {matriz_forca[0]:.2f} i + {matriz_forca[1]:.2f} j + {matriz_forca[2]:.2f} k')\n",
    "    print(f'M = {prod[0]:.2f} i + {prod[1]:.2f} j + {prod[2]:.2f} k')\n",
    "\n",
    "    t = prod[2]\n",
    "    m = math.sqrt(((prod[0])**2) + ((prod[1])**2))\n",
    "\n",
    "    tensao_cisalhante = ((16 * t) / (3.14 * (d**3)))\n",
    "    tensao_normal = ((32 * m) / (3.14 * (d**3)))\n",
    "\n",
    "    tensao_cisalhante_max = (math.sqrt(((tensao_normal / 2)**2) + (tensao_cisalhante**2)))* 10**-3\n",
    "    print(f'{tensao_cisalhante_max} MPa')    "
   ]
  },
  {
   "cell_type": "markdown",
   "id": "a0a83078",
   "metadata": {},
   "source": [
    "<img src='tabela.png'>"
   ]
  },
  {
   "cell_type": "code",
   "execution_count": 193,
   "id": "884b5565",
   "metadata": {},
   "outputs": [
    {
     "name": "stdout",
     "output_type": "stream",
     "text": [
      "ka = 0.70\n",
      "kb = 2.24\n",
      "kc = 0.84\n",
      "kd = 1.00\n",
      "ke = 0.85\n",
      "kf = 0.85\n"
     ]
    }
   ],
   "source": [
    "#ka\n",
    "if aco == 'forjado':\n",
    "    a = 272\n",
    "    b = -0.995\n",
    "    ka = a * (tensao_ruptura ** b)\n",
    "    print(f'ka = {ka:.2f}')\n",
    "elif aco == 'laminado_quente':\n",
    "    a = 57.7\n",
    "    b = -0.718\n",
    "    ka = a * (tensao_ruptura ** b)\n",
    "    print(f'ka = {ka:.2f}')\n",
    "elif aco == 'usinado_ou_laminado_frio':\n",
    "    a = 4.51\n",
    "    b = -0.265\n",
    "    ka = a * (tensao_ruptura ** b)\n",
    "    print(f'ka = {ka:.2f}')\n",
    "elif aco == 'retificado':\n",
    "    a = 1.58\n",
    "    b = -0.085\n",
    "    ka = a * (tensao_ruptura ** b)\n",
    "    print(f'ka = {ka:.2f}')\n",
    "elif aco == 'espelhado':\n",
    "    a = 1\n",
    "    b = 0\n",
    "    ka = a * (tensao_ruptura ** b)\n",
    "    print(f'ka = {ka:.2f}')\n",
    "\n",
    "\n",
    "#kb\n",
    "if d == '':\n",
    "    kb = 0.85\n",
    "    print(f'kb = {kb:.2f}')\n",
    "elif 2.79*(10**-3) <=  d <= 51*(10**-3):\n",
    "    kb = (d / 7.62)**-0.107\n",
    "    print(f'kb = {kb:.2f}')\n",
    "elif 51*(10**-3) < d <= 254*(10**-3):\n",
    "    kb = 1.51 * (d**-0.157)\n",
    "    print(f'kb = {kb:.2f}')\n",
    "\n",
    "#kc \n",
    "if conf == 50:\n",
    "    kc = 1\n",
    "    print(f'kc = {kc:.2f}')\n",
    "elif conf == 90:\n",
    "    kc = 0.897\n",
    "    print(f'kc = {kc:.2f}')\n",
    "elif conf == 95:\n",
    "    kc = 0.868\n",
    "    print(f'kc = {kc:.2f}')\n",
    "elif conf == 98:\n",
    "    kc = 0.836\n",
    "    print(f'kc = {kc:.2f}')\n",
    "elif conf == 99:\n",
    "    kc = 0,814\n",
    "    print(f'kc = {kc:.2f}')\n",
    "elif conf == 99.99:\n",
    "    kc = 0.702\n",
    "    print(f'kc = {kc:.2f}')\n",
    "elif conf == 99.9999:\n",
    "    kc = 0.620\n",
    "    print(f'kc = {kc:.2f}')\n",
    "elif conf == 99.99999:\n",
    "    kc = 0.584\n",
    "    print(f'kc = {kc:.2f}')\n",
    "\n",
    "#kd\n",
    "kd = 0.9877 + (0.6507 * (10**-3) * t) - (0.3414 * (10**-5) * (t**2)) + (0.5621 * (10**-8) * (t**3)) - (6.246 * (10**-12) * (t**4))\n",
    "print(f'kd = {kd:.2f}')\n",
    "\n",
    "#ke \n",
    "if carga == 'flexao':\n",
    "    ke = 1\n",
    "    print(f'ke = {ke:.2f}')\n",
    "elif carga == 'axial':\n",
    "    ke = 0.85\n",
    "    print(f'ke = {ke:.2f}')\n",
    "elif carga == 'torcao':\n",
    "    ke = 0.577\n",
    "    print(f'ke = {ke:.2f}')\n",
    "\n",
    "#kf \n",
    "kf = 1\n",
    "print(f'kf = {ke:.2f}')\n",
    "\n",
    "\n"
   ]
  },
  {
   "cell_type": "code",
   "execution_count": null,
   "id": "3ff81c6c",
   "metadata": {},
   "outputs": [],
   "source": []
  }
 ],
 "metadata": {
  "kernelspec": {
   "display_name": "Python 3 (ipykernel)",
   "language": "python",
   "name": "python3"
  },
  "language_info": {
   "codemirror_mode": {
    "name": "ipython",
    "version": 3
   },
   "file_extension": ".py",
   "mimetype": "text/x-python",
   "name": "python",
   "nbconvert_exporter": "python",
   "pygments_lexer": "ipython3",
   "version": "3.9.7"
  }
 },
 "nbformat": 4,
 "nbformat_minor": 5
}
