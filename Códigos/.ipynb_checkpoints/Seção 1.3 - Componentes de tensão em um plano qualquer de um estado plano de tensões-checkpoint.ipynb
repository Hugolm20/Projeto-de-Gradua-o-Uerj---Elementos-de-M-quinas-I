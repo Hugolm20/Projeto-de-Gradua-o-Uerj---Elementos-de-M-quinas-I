{
 "cells": [
  {
   "cell_type": "code",
   "execution_count": null,
   "metadata": {},
   "outputs": [],
   "source": [
    "try:     \n",
    "    tensao_normal_1 = float(input('Insira o valor de σ1:'))\n",
    "    tensao_normal_2 = float(input('Insira o valor de σ2:'))\n",
    "    tensao_cisalhamento_12 = float(input('Insira o valor de τ12:')) \n",
    "except:\n",
    "    print('O valor deve ser um número')   "
   ]
  }
 ],
 "metadata": {
  "kernelspec": {
   "display_name": "Python 3",
   "language": "python",
   "name": "python3"
  },
  "language_info": {
   "codemirror_mode": {
    "name": "ipython",
    "version": 3
   },
   "file_extension": ".py",
   "mimetype": "text/x-python",
   "name": "python",
   "nbconvert_exporter": "python",
   "pygments_lexer": "ipython3",
   "version": "3.8.3"
  }
 },
 "nbformat": 4,
 "nbformat_minor": 4
}
