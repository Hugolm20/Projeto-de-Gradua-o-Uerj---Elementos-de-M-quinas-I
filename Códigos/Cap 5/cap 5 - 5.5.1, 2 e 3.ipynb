{
 "cells": [
  {
   "cell_type": "code",
   "execution_count": 1,
   "metadata": {},
   "outputs": [
    {
     "name": "stdout",
     "output_type": "stream",
     "text": [
      "Fator de segurança: 1.30\n"
     ]
    }
   ],
   "source": [
    "import math\n",
    "import numpy as np\n",
    "\n",
    "lim_rup = 400\n",
    "lim_esc = 280\n",
    "n = ''\n",
    "q = 1\n",
    "kt = 1.48\n",
    "d = 0.05\n",
    "\n",
    "f_min = ''\n",
    "f_max = ''\n",
    "ka_n = 0.72\n",
    "kb_n = 1\n",
    "kc_n = 1\n",
    "kd_n = 1\n",
    "ke_n = 0.85\n",
    "kf_n = 1\n",
    "\n",
    "t_min = -100\n",
    "t_max = 600\n",
    "ka_c = 0.7\n",
    "kb_c = 0.77\n",
    "kc_c = 1\n",
    "kd_c = 0.97\n",
    "ke_c = 0.577\n",
    "kf_c = 1\n",
    "\n",
    "if t_min == '' and t_max == '' and d == '':\n",
    "    kp = 1 + (q * (kt - 1))\n",
    "    lim_normal_res = ka_n * kb_n * kc_n * kd_n * ke_n * kf_n * (0.5 * lim_rup)\n",
    "    tensao_max = (kp * ((4*f_max)/(3.14)))\n",
    "    tensao_min = (kp * ((4*f_min)/(3.14)))\n",
    "    tensao_media = (tensao_max + tensao_min)/2\n",
    "    tensao_var = (tensao_max - tensao_min)/2\n",
    "    tensao = tensao_media + (tensao_var * (lim_esc/lim_normal_res))\n",
    "    d = math.sqrt((n * tensao)/lim_esc)\n",
    "    print(f'{d:.2f} mm')\n",
    "elif f_min == '' and f_max == '' and d == '':\n",
    "    kp = 1 + (q * (kt - 1))\n",
    "    lim_normal_res = ka_c * kb_c * kc_c * kd_c * ke_c * kf_c * (0.5 * lim_rup)\n",
    "    tensao_cis_max = (kp * ((16*t_max) / 3.14)) \n",
    "    tensao_cis_min = (kp * ((16*t_min) / 3.14)) \n",
    "    tensao_cis_media = (tensao_cis_max + tensao_cis_min)/2\n",
    "    tensao_cis_var = (tensao_cis_max - tensao_cis_min)/2\n",
    "    lim_esc = 0.577 * lim_esc\n",
    "    tensao_cis = tensao_cis_media + (tensao_cis_var * (lim_esc/lim_normal_res))\n",
    "    d = ((math.sqrt(3) * n * tensao_cis)/lim_esc)**1/3\n",
    "    print(f'{d:.2f} mm')\n",
    "elif n == '':\n",
    "    kp = 1 + (q * (kt - 1))\n",
    "    lim_normal_res = ka_c * kb_c * kc_c * kd_c * ke_c * kf_c * (0.5 * lim_rup)\n",
    "    tensao_cis_max = (kp * (16*t_max) / (3.14 * (d**3)))*10**-6\n",
    "    tensao_cis_min = (kp * (16*t_min) / (3.14 * (d**3)))*10**-6 \n",
    "    tensao_cis_media = ((tensao_cis_max + tensao_cis_min) / 2) \n",
    "    tensao_cis_var = ((tensao_cis_max - tensao_cis_min) / 2) \n",
    "    lim_cis_esc = 0.577 * lim_esc\n",
    "    tensao_cis = tensao_cis_media + (tensao_cis_var * (lim_cis_esc/lim_normal_res))    \n",
    "    n = lim_cis_esc / ((math.sqrt(3)) * tensao_cis)\n",
    "    print(f'Fator de segurança: {n:,.2f}')\n"
   ]
  },
  {
   "cell_type": "code",
   "execution_count": null,
   "metadata": {},
   "outputs": [],
   "source": []
  }
 ],
 "metadata": {
  "interpreter": {
   "hash": "891fdc17ebb43d1a9dddc5524327f2e15ff929a695243491a358d5110d42d9c0"
  },
  "kernelspec": {
   "display_name": "Python 3 (ipykernel)",
   "language": "python",
   "name": "python3"
  },
  "language_info": {
   "codemirror_mode": {
    "name": "ipython",
    "version": 3
   },
   "file_extension": ".py",
   "mimetype": "text/x-python",
   "name": "python",
   "nbconvert_exporter": "python",
   "pygments_lexer": "ipython3",
   "version": "3.9.7"
  }
 },
 "nbformat": 4,
 "nbformat_minor": 2
}
