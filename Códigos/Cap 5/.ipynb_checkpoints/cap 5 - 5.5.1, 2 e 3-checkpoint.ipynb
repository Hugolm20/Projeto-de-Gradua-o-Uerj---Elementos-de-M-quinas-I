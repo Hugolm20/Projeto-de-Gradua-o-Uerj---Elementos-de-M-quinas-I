{
 "cells": [
  {
   "cell_type": "code",
   "execution_count": 1,
   "metadata": {},
   "outputs": [
    {
     "name": "stdout",
     "output_type": "stream",
     "text": [
      "Fator de segurança: 1.30\n"
     ]
    },
    {
     "ename": "NameError",
     "evalue": "name 'tensao_normal_var' is not defined",
     "output_type": "error",
     "traceback": [
      "\u001b[1;31m---------------------------------------------------------------------------\u001b[0m",
      "\u001b[1;31mNameError\u001b[0m                                 Traceback (most recent call last)",
      "\u001b[1;32mc:\\Users\\Uello\\Documents\\Projeto de Graduação\\Códigos\\Cap 5\\cap 5 - 5.5.1, 2 e 3.ipynb Cell 1'\u001b[0m in \u001b[0;36m<module>\u001b[1;34m\u001b[0m\n\u001b[0;32m     <a href='vscode-notebook-cell:/c%3A/Users/Uello/Documents/Projeto%20de%20Gradua%C3%A7%C3%A3o/C%C3%B3digos/Cap%205/cap%205%20-%205.5.1%2C%202%20e%203.ipynb#ch0000000?line=58'>59</a>\u001b[0m     n \u001b[39m=\u001b[39m lim_cis_esc \u001b[39m/\u001b[39m ((math\u001b[39m.\u001b[39msqrt(\u001b[39m3\u001b[39m)) \u001b[39m*\u001b[39m tensao_cis)\n\u001b[0;32m     <a href='vscode-notebook-cell:/c%3A/Users/Uello/Documents/Projeto%20de%20Gradua%C3%A7%C3%A3o/C%C3%B3digos/Cap%205/cap%205%20-%205.5.1%2C%202%20e%203.ipynb#ch0000000?line=59'>60</a>\u001b[0m     \u001b[39mprint\u001b[39m(\u001b[39mf\u001b[39m\u001b[39m'\u001b[39m\u001b[39mFator de segurança: \u001b[39m\u001b[39m{\u001b[39;00mn\u001b[39m:\u001b[39;00m\u001b[39m,.2f\u001b[39m\u001b[39m}\u001b[39;00m\u001b[39m'\u001b[39m)\n\u001b[1;32m---> <a href='vscode-notebook-cell:/c%3A/Users/Uello/Documents/Projeto%20de%20Gradua%C3%A7%C3%A3o/C%C3%B3digos/Cap%205/cap%205%20-%205.5.1%2C%202%20e%203.ipynb#ch0000000?line=62'>63</a>\u001b[0m tensao_normal_mod_god \u001b[39m=\u001b[39m lim_esc \u001b[39m*\u001b[39m ((tensao_normal_var\u001b[39m/\u001b[39mlim_normal_res) \u001b[39m+\u001b[39m (tensao_normal_media\u001b[39m/\u001b[39mlim_rup))\n\u001b[0;32m     <a href='vscode-notebook-cell:/c%3A/Users/Uello/Documents/Projeto%20de%20Gradua%C3%A7%C3%A3o/C%C3%B3digos/Cap%205/cap%205%20-%205.5.1%2C%202%20e%203.ipynb#ch0000000?line=63'>64</a>\u001b[0m tensao_cis_mod_god \u001b[39m=\u001b[39m tensao_cis_esc \u001b[39m*\u001b[39m ((tensao_cis_var\u001b[39m/\u001b[39mlim_cis_res) \u001b[39m+\u001b[39m (tensao_cis_media\u001b[39m/\u001b[39mlim_rup))\n\u001b[0;32m     <a href='vscode-notebook-cell:/c%3A/Users/Uello/Documents/Projeto%20de%20Gradua%C3%A7%C3%A3o/C%C3%B3digos/Cap%205/cap%205%20-%205.5.1%2C%202%20e%203.ipynb#ch0000000?line=64'>65</a>\u001b[0m n_mod_god \u001b[39m=\u001b[39m lim_esc \u001b[39m/\u001b[39m (((tensao_normal_mod_god\u001b[39m*\u001b[39m\u001b[39m*\u001b[39m\u001b[39m2\u001b[39m) \u001b[39m+\u001b[39m \u001b[39m3\u001b[39m \u001b[39m*\u001b[39m (tensao_cis_mod_god\u001b[39m*\u001b[39m\u001b[39m*\u001b[39m\u001b[39m2\u001b[39m))\u001b[39m*\u001b[39m\u001b[39m*\u001b[39m(\u001b[39m1\u001b[39m\u001b[39m/\u001b[39m\u001b[39m2\u001b[39m))\n",
      "\u001b[1;31mNameError\u001b[0m: name 'tensao_normal_var' is not defined"
     ]
    }
   ],
   "source": [
    "import math\n",
    "import numpy as np\n",
    "\n",
    "lim_rup = 400\n",
    "lim_esc = 280\n",
    "n = ''\n",
    "q = 1\n",
    "kt = 1.48\n",
    "d = 0.05\n",
    "\n",
    "f_min = ''\n",
    "f_max = ''\n",
    "ka_n = 0.72\n",
    "kb_n = 1\n",
    "kc_n = 1\n",
    "kd_n = 1\n",
    "ke_n = 0.85\n",
    "kf_n = 1\n",
    "\n",
    "t_min = -100\n",
    "t_max = 600\n",
    "ka_c = 0.7\n",
    "kb_c = 0.77\n",
    "kc_c = 1\n",
    "kd_c = 0.97\n",
    "ke_c = 0.577\n",
    "kf_c = 1\n",
    "\n",
    "if t_min == '' and t_max == '' and d == '':\n",
    "    kp = 1 + (q * (kt - 1))\n",
    "    lim_normal_res = ka_n * kb_n * kc_n * kd_n * ke_n * kf_n * (0.5 * lim_rup)\n",
    "    tensao_max = (kp * ((4*f_max)/(3.14)))\n",
    "    tensao_min = (kp * ((4*f_min)/(3.14)))\n",
    "    tensao_media = (tensao_max + tensao_min)/2\n",
    "    tensao_var = (tensao_max - tensao_min)/2\n",
    "    tensao = tensao_media + (tensao_var * (lim_esc/lim_normal_res))\n",
    "    d = math.sqrt((n * tensao)/lim_esc)\n",
    "    print(f'{d:.2f} mm')\n",
    "elif f_min == '' and f_max == '' and d == '':\n",
    "    kp = 1 + (q * (kt - 1))\n",
    "    lim_normal_res = ka_c * kb_c * kc_c * kd_c * ke_c * kf_c * (0.5 * lim_rup)\n",
    "    tensao_cis_max = (kp * ((16*t_max) / 3.14)) \n",
    "    tensao_cis_min = (kp * ((16*t_min) / 3.14)) \n",
    "    tensao_cis_media = (tensao_cis_max + tensao_cis_min)/2\n",
    "    tensao_cis_var = (tensao_cis_max - tensao_cis_min)/2\n",
    "    lim_esc = 0.577 * lim_esc\n",
    "    tensao_cis = tensao_cis_media + (tensao_cis_var * (lim_esc/lim_normal_res))\n",
    "    d = ((math.sqrt(3) * n * tensao_cis)/lim_esc)**1/3\n",
    "    print(f'{d:.2f} mm')\n",
    "elif n == '':\n",
    "    kp = 1 + (q * (kt - 1))\n",
    "    lim_normal_res = ka_c * kb_c * kc_c * kd_c * ke_c * kf_c * (0.5 * lim_rup)\n",
    "    tensao_cis_max = (kp * (16*t_max) / (3.14 * (d**3)))*10**-6\n",
    "    tensao_cis_min = (kp * (16*t_min) / (3.14 * (d**3)))*10**-6 \n",
    "    tensao_cis_media = ((tensao_cis_max + tensao_cis_min) / 2) \n",
    "    tensao_cis_var = ((tensao_cis_max - tensao_cis_min) / 2) \n",
    "    lim_cis_esc = 0.577 * lim_esc\n",
    "    tensao_cis = tensao_cis_media + (tensao_cis_var * (lim_cis_esc/lim_normal_res))    \n",
    "    n = lim_cis_esc / ((math.sqrt(3)) * tensao_cis)\n",
    "    print(f'Fator de segurança: {n:,.2f}')\n"
   ]
  }
 ],
 "metadata": {
  "interpreter": {
   "hash": "891fdc17ebb43d1a9dddc5524327f2e15ff929a695243491a358d5110d42d9c0"
  },
  "kernelspec": {
   "display_name": "Python 3 (ipykernel)",
   "language": "python",
   "name": "python3"
  },
  "language_info": {
   "codemirror_mode": {
    "name": "ipython",
    "version": 3
   },
   "file_extension": ".py",
   "mimetype": "text/x-python",
   "name": "python",
   "nbconvert_exporter": "python",
   "pygments_lexer": "ipython3",
   "version": "3.9.7"
  }
 },
 "nbformat": 4,
 "nbformat_minor": 2
}
