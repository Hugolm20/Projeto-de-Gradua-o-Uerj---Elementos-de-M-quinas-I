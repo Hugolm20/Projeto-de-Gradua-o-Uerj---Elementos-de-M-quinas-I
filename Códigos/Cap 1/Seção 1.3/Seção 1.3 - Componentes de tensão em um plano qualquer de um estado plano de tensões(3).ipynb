{
 "cells": [
  {
   "cell_type": "code",
   "execution_count": 3,
   "metadata": {},
   "outputs": [],
   "source": [
    "import math"
   ]
  },
  {
   "cell_type": "markdown",
   "metadata": {},
   "source": [
    "\n",
    "<img src='Seção 1.3.png'>"
   ]
  },
  {
   "cell_type": "code",
   "execution_count": 28,
   "metadata": {},
   "outputs": [],
   "source": [
    "try:     \n",
    "    tensao_normal_1 = float(input('Insira o valor de σ1:'))\n",
    "    tensao_normal_2 = float(input('Insira o valor de σ2:'))\n",
    "    tensao_cisalhante_12 = float(input('Insira o valor de τ12'))\n",
    "    angulo = float(input('Insira o valor de θ:'))\n",
    "except ValueError as error:\n",
    "    print('O valor deve ser um número')      "
   ]
  },
  {
   "cell_type": "code",
   "execution_count": 31,
   "metadata": {},
   "outputs": [
    {
     "name": "stdout",
     "output_type": "stream",
     "text": [
      "O valor de σlinha1 é: 48.430780618346944 \n",
      "O valor de σlinha2 é: 111.56921938165306 \n",
      "O valor de τlinha12 é: -41.32050807568878 \n"
     ]
    }
   ],
   "source": [
    "seno = math.sin(math.radians(2*angulo))\n",
    "cosseno = math.cos(math.radians(2*angulo))\n",
    "\n",
    "tensao_normal_linha_1 = ((tensao_normal_1 + tensao_normal_2)/2) + (((tensao_normal_1-tensao_normal_2)/2) * (cosseno)) + (tensao_cisalhante_12 * (seno))\n",
    "tensao_normal_linha_2 = ((tensao_normal_1 + tensao_normal_2)/2) - (((tensao_normal_1-tensao_normal_2)/2) * (cosseno)) - (tensao_cisalhante_12 * (seno))\n",
    "tensao_cisalhante_linha_12 = -(((tensao_normal_1 - tensao_normal_2)/2) * seno) + (tensao_cisalhante_12 * cosseno)\n",
    "\n",
    "print(f'O valor de σlinha1 é: {tensao_normal_linha_1} ')\n",
    "print(f'O valor de σlinha2 é: {tensao_normal_linha_2} ')\n",
    "print(f'O valor de τlinha12 é: {tensao_cisalhante_linha_12} ')"
   ]
  }
 ],
 "metadata": {
  "kernelspec": {
   "display_name": "Python 3 (ipykernel)",
   "language": "python",
   "name": "python3"
  },
  "language_info": {
   "codemirror_mode": {
    "name": "ipython",
    "version": 3
   },
   "file_extension": ".py",
   "mimetype": "text/x-python",
   "name": "python",
   "nbconvert_exporter": "python",
   "pygments_lexer": "ipython3",
   "version": "3.9.7"
  }
 },
 "nbformat": 4,
 "nbformat_minor": 4
}
