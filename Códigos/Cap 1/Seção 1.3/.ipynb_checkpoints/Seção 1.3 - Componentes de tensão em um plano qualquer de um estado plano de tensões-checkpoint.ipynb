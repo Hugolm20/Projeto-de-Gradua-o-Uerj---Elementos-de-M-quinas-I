{
 "cells": [
  {
   "cell_type": "code",
   "execution_count": 3,
   "metadata": {},
   "outputs": [],
   "source": [
    "import math"
   ]
  },
  {
   "cell_type": "markdown",
   "metadata": {},
   "source": [
    "\n",
    "<img src='Seção 1.3.png'>"
   ]
  },
  {
   "cell_type": "code",
   "execution_count": 28,
   "metadata": {},
   "outputs": [],
   "source": [
    "try:     \n",
    "    tensao_normal_1 = float(input('Insira o valor de σ1:'))\n",
    "    tensao_normal_2 = float(input('Insira o valor de σ2:'))\n",
    "    tensao_cisalhante_12 = float(input('Insira o valor de τ12'))\n",
    "    angulo = float(input('Insira o valor de θ:'))\n",
    "except ValueError as error:\n",
    "    print('O valor deve ser um número')      "
   ]
  },
  {
   "cell_type": "code",
   "execution_count": 1,
   "metadata": {},
   "outputs": [
    {
     "ename": "NameError",
     "evalue": "name 'math' is not defined",
     "output_type": "error",
     "traceback": [
      "\u001b[1;31m---------------------------------------------------------------------------\u001b[0m",
      "\u001b[1;31mNameError\u001b[0m                                 Traceback (most recent call last)",
      "\u001b[1;32mc:\\Users\\Uello\\Documents\\Projeto de Graduação\\Códigos\\Seção 1.3\\Seção 1.3 - Componentes de tensão em um plano qualquer de um estado plano de tensões.ipynb Cell 4'\u001b[0m in \u001b[0;36m<module>\u001b[1;34m\u001b[0m\n\u001b[1;32m----> <a href='vscode-notebook-cell:/c%3A/Users/Uello/Documents/Projeto%20de%20Gradua%C3%A7%C3%A3o/C%C3%B3digos/Se%C3%A7%C3%A3o%201.3/Se%C3%A7%C3%A3o%201.3%20-%20Componentes%20de%20tens%C3%A3o%20em%20um%20plano%20qualquer%20de%20um%20estado%20plano%20de%20tens%C3%B5es.ipynb#ch0000003?line=0'>1</a>\u001b[0m seno \u001b[39m=\u001b[39m math\u001b[39m.\u001b[39msin(math\u001b[39m.\u001b[39mradians(\u001b[39m2\u001b[39m\u001b[39m*\u001b[39mangulo))\n\u001b[0;32m      <a href='vscode-notebook-cell:/c%3A/Users/Uello/Documents/Projeto%20de%20Gradua%C3%A7%C3%A3o/C%C3%B3digos/Se%C3%A7%C3%A3o%201.3/Se%C3%A7%C3%A3o%201.3%20-%20Componentes%20de%20tens%C3%A3o%20em%20um%20plano%20qualquer%20de%20um%20estado%20plano%20de%20tens%C3%B5es.ipynb#ch0000003?line=1'>2</a>\u001b[0m cosseno \u001b[39m=\u001b[39m math\u001b[39m.\u001b[39mcos(math\u001b[39m.\u001b[39mradians(\u001b[39m2\u001b[39m\u001b[39m*\u001b[39mangulo))\n\u001b[0;32m      <a href='vscode-notebook-cell:/c%3A/Users/Uello/Documents/Projeto%20de%20Gradua%C3%A7%C3%A3o/C%C3%B3digos/Se%C3%A7%C3%A3o%201.3/Se%C3%A7%C3%A3o%201.3%20-%20Componentes%20de%20tens%C3%A3o%20em%20um%20plano%20qualquer%20de%20um%20estado%20plano%20de%20tens%C3%B5es.ipynb#ch0000003?line=3'>4</a>\u001b[0m tensao_normal_linha_1 \u001b[39m=\u001b[39m ((tensao_normal_1 \u001b[39m+\u001b[39m tensao_normal_2)\u001b[39m/\u001b[39m\u001b[39m2\u001b[39m) \u001b[39m+\u001b[39m (((tensao_normal_1\u001b[39m-\u001b[39mtensao_normal_2)\u001b[39m/\u001b[39m\u001b[39m2\u001b[39m) \u001b[39m*\u001b[39m (cosseno)) \u001b[39m+\u001b[39m (tensao_cisalhante_12 \u001b[39m*\u001b[39m (seno))\n",
      "\u001b[1;31mNameError\u001b[0m: name 'math' is not defined"
     ]
    }
   ],
   "source": [
    "seno = math.sin(math.radians(2*angulo))\n",
    "cosseno = math.cos(math.radians(2*angulo))\n",
    "\n",
    "tensao_normal_linha_1 = ((tensao_normal_1 + tensao_normal_2)/2) + (((tensao_normal_1-tensao_normal_2)/2) * (cosseno)) + (tensao_cisalhante_12 * (seno))\n",
    "tensao_normal_linha_2 = ((tensao_normal_1 + tensao_normal_2)/2) - (((tensao_normal_1-tensao_normal_2)/2) * (cosseno)) - (tensao_cisalhante_12 * (seno))\n",
    "tensao_cisalhante_linha_12 = -(((tensao_normal_1 - tensao_normal_2)/2) * seno) + (tensao_cisalhante_12 * cosseno)\n",
    "\n",
    "print(f'O valor de σlinha1 é: {tensao_normal_linha_1:.2f} ')\n",
    "print(f'O valor de σlinha2 é: {tensao_normal_linha_2:.2f} ')\n",
    "print(f'O valor de τlinha12 é: {tensao_cisalhante_linha_12:.2f} ')"
   ]
  }
 ],
 "metadata": {
  "kernelspec": {
   "display_name": "Python 3 (ipykernel)",
   "language": "python",
   "name": "python3"
  },
  "language_info": {
   "codemirror_mode": {
    "name": "ipython",
    "version": 3
   },
   "file_extension": ".py",
   "mimetype": "text/x-python",
   "name": "python",
   "nbconvert_exporter": "python",
   "pygments_lexer": "ipython3",
   "version": "3.9.7"
  }
 },
 "nbformat": 4,
 "nbformat_minor": 4
}
