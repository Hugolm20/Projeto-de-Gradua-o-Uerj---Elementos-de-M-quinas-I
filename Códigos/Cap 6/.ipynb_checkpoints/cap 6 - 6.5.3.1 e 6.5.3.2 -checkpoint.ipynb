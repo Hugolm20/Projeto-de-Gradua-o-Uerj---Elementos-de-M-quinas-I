{
 "cells": [
  {
   "cell_type": "code",
   "execution_count": 9,
   "metadata": {},
   "outputs": [
    {
     "name": "stdout",
     "output_type": "stream",
     "text": [
      "165186 N\n",
      "826 N\n",
      "185186 N\n",
      "-5186 N\n"
     ]
    }
   ],
   "source": [
    "at = 483 * 10**-6  \n",
    "rp = 380 * 10**6\n",
    "p = 180000\n",
    "d = 0.025\n",
    "\n",
    "# para fi com fixação permanente x = 0. \n",
    "# para fi com ficação não permanente x = 1\n",
    "x = 0\n",
    "\n",
    "if x == 0:\n",
    "    fi = 0.9 * rp * at\n",
    "else:\n",
    "    fi = 0.75 * rp * at\n",
    "\n",
    "# para t sem lubrificação y = 0\n",
    "# para t com lubrificação y = 1\n",
    "y = 0\n",
    "\n",
    "if y == 0:\n",
    "    t = 0.2 * d * fi\n",
    "else:\n",
    "    t = 0.15 * d * fi\n",
    "\n",
    "fp = (1/9 * p) + fi \n",
    "fm = (8/9 * p) - fi \n",
    "\n",
    "print(f'{fi:.0f} N')\n",
    "print(f'{t:.0f} N')\n",
    "print(f'{fp:.0f} N')\n",
    "print(f'{fm:.0f} N') "
   ]
  }
 ],
 "metadata": {
  "interpreter": {
   "hash": "891fdc17ebb43d1a9dddc5524327f2e15ff929a695243491a358d5110d42d9c0"
  },
  "kernelspec": {
   "display_name": "Python 3 (ipykernel)",
   "language": "python",
   "name": "python3"
  },
  "language_info": {
   "codemirror_mode": {
    "name": "ipython",
    "version": 3
   },
   "file_extension": ".py",
   "mimetype": "text/x-python",
   "name": "python",
   "nbconvert_exporter": "python",
   "pygments_lexer": "ipython3",
   "version": "3.9.7"
  }
 },
 "nbformat": 4,
 "nbformat_minor": 2
}
