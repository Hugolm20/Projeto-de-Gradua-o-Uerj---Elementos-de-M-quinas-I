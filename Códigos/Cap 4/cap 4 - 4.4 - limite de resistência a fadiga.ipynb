{
 "cells": [
  {
   "cell_type": "markdown",
   "metadata": {},
   "source": [
    "<img src='tabela.png'>"
   ]
  },
  {
   "cell_type": "code",
   "execution_count": 12,
   "metadata": {},
   "outputs": [
    {
     "name": "stdout",
     "output_type": "stream",
     "text": [
      "ka = 0.70\n",
      "kb = 0.80\n",
      "kc = 0.84\n",
      "kd = 1.02\n",
      "ke = 0.85\n",
      "kf = 0.85\n",
      "81.08 MPa\n"
     ]
    }
   ],
   "source": [
    "tensao_ruptura = 400\n",
    "aco = 'forjado'\n",
    "d = 59\n",
    "t = 165\n",
    "carga = 'axial'\n",
    "conf = 98\n",
    "\n",
    "#ka\n",
    "if aco == 'forjado':\n",
    "    a = 272\n",
    "    b = -0.995\n",
    "    ka = a * (tensao_ruptura ** b)\n",
    "    print(f'ka = {ka:.2f}')\n",
    "elif aco == 'laminado_quente':\n",
    "    a = 57.7\n",
    "    b = -0.718\n",
    "    ka = a * (tensao_ruptura ** b)\n",
    "    print(f'ka = {ka:.2f}')\n",
    "elif aco == 'usinado_ou_laminado_frio':\n",
    "    a = 4.51\n",
    "    b = -0.265\n",
    "    ka = a * (tensao_ruptura ** b)\n",
    "    print(f'ka = {ka:.2f}')\n",
    "elif aco == 'retificado':\n",
    "    a = 1.58\n",
    "    b = -0.085\n",
    "    ka = a * (tensao_ruptura ** b)\n",
    "    print(f'ka = {ka:.2f}')\n",
    "elif aco == 'espelhado':\n",
    "    a = 1\n",
    "    b = 0\n",
    "    ka = a * (tensao_ruptura ** b)\n",
    "    print(f'ka = {ka:.2f}')\n",
    "\n",
    "\n",
    "#kb\n",
    "if d == '':\n",
    "    kb = 0.85\n",
    "    print(f'kb = {kb:.2f}')\n",
    "elif 2.79 <=  d <= 51:\n",
    "    kb = (d / 7.62)**-0.107\n",
    "    print(f'kb = {kb:.2f}')\n",
    "elif 51 < d <= 254:\n",
    "    kb = 1.51 * (d**-0.157)\n",
    "    print(f'kb = {kb:.2f}')\n",
    "\n",
    "#kc \n",
    "if conf == 50:\n",
    "    kc = 1\n",
    "    print(f'kc = {kc:.2f}')\n",
    "elif conf == 90:\n",
    "    kc = 0.897\n",
    "    print(f'kc = {kc:.2f}')\n",
    "elif conf == 95:\n",
    "    kc = 0.868\n",
    "    print(f'kc = {kc:.2f}')\n",
    "elif conf == 98:\n",
    "    kc = 0.836\n",
    "    print(f'kc = {kc:.2f}')\n",
    "elif conf == 99:\n",
    "    kc = 0,814\n",
    "    print(f'kc = {kc:.2f}')\n",
    "elif conf == 99.99:\n",
    "    kc = 0.702\n",
    "    print(f'kc = {kc:.2f}')\n",
    "elif conf == 99.9999:\n",
    "    kc = 0.620\n",
    "    print(f'kc = {kc:.2f}')\n",
    "elif conf == 99.99999:\n",
    "    kc = 0.584\n",
    "    print(f'kc = {kc:.2f}')\n",
    "\n",
    "#kd\n",
    "if 37 <= t <= 540:\n",
    "    kd = 0.9877 + (0.6507*(10**-3)*t) - (0.3414*(10**-5)*(t**2)) + (0.5621*(10**-8)*(t**3)) - (6.246*(10**-12)*(t**4))\n",
    "    print(f'kd = {kd:.2f}')\n",
    "else:\n",
    "    kd = 1\n",
    "    print(f'kd = {kd:.2f}')\n",
    "\n",
    "#ke \n",
    "if carga == 'flexao':\n",
    "    ke = 1\n",
    "    print(f'ke = {ke:.2f}')\n",
    "elif carga == 'axial':\n",
    "    ke = 0.85\n",
    "    print(f'ke = {ke:.2f}')\n",
    "elif carga == 'torcao':\n",
    "    ke = 0.577\n",
    "    print(f'ke = {ke:.2f}')\n",
    "\n",
    "#kf \n",
    "kf = 1\n",
    "print(f'kf = {ke:.2f}')\n",
    "\n",
    "lim_res = ka * kb * kc * kd * ke * kf * (0.5 * tensao_ruptura)\n",
    "\n",
    "print(f'{lim_res:.2f} MPa')"
   ]
  },
  {
   "cell_type": "code",
   "execution_count": null,
   "metadata": {},
   "outputs": [],
   "source": []
  },
  {
   "cell_type": "code",
   "execution_count": null,
   "metadata": {},
   "outputs": [],
   "source": []
  }
 ],
 "metadata": {
  "interpreter": {
   "hash": "891fdc17ebb43d1a9dddc5524327f2e15ff929a695243491a358d5110d42d9c0"
  },
  "kernelspec": {
   "display_name": "Python 3 (ipykernel)",
   "language": "python",
   "name": "python3"
  },
  "language_info": {
   "codemirror_mode": {
    "name": "ipython",
    "version": 3
   },
   "file_extension": ".py",
   "mimetype": "text/x-python",
   "name": "python",
   "nbconvert_exporter": "python",
   "pygments_lexer": "ipython3",
   "version": "3.9.7"
  }
 },
 "nbformat": 4,
 "nbformat_minor": 2
}
