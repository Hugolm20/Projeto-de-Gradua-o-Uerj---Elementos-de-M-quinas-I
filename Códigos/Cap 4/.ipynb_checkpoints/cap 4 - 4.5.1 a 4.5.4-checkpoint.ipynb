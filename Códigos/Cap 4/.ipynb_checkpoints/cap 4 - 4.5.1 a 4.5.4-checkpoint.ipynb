{
 "cells": [
  {
   "cell_type": "code",
   "execution_count": 20,
   "metadata": {},
   "outputs": [
    {
     "name": "stdout",
     "output_type": "stream",
     "text": [
      "-0.266\n",
      "3.599\n",
      "75786 ciclos\n"
     ]
    }
   ],
   "source": [
    "import math\n",
    "\n",
    "tensao_ruptura = 700\n",
    "lim_res_fadiga = 100\n",
    "tensao = 200\n",
    "\n",
    "m = round(-(1/3) * math.log10((0.90 * tensao_ruptura) / lim_res_fadiga),3)\n",
    "b = round(math.log10(((0.90 * tensao_ruptura)**2) / lim_res_fadiga),3)\n",
    "\n",
    "n = round((tensao / (10**b))**(1/m))\n",
    "\n",
    "print(m)\n",
    "print(b)\n",
    "print(f'{n} ciclos')"
   ]
  }
 ],
 "metadata": {
  "interpreter": {
   "hash": "891fdc17ebb43d1a9dddc5524327f2e15ff929a695243491a358d5110d42d9c0"
  },
  "kernelspec": {
   "display_name": "Python 3 (ipykernel)",
   "language": "python",
   "name": "python3"
  },
  "language_info": {
   "codemirror_mode": {
    "name": "ipython",
    "version": 3
   },
   "file_extension": ".py",
   "mimetype": "text/x-python",
   "name": "python",
   "nbconvert_exporter": "python",
   "pygments_lexer": "ipython3",
   "version": "3.9.7"
  }
 },
 "nbformat": 4,
 "nbformat_minor": 2
}
